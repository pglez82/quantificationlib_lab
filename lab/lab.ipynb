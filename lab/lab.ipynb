{
 "cells": [
  {
   "cell_type": "markdown",
   "metadata": {},
   "source": [
    "## Taller de cuantificación\n",
    "\n",
    "### Parte 1: Descarga del dataset necesario"
   ]
  },
  {
   "cell_type": "code",
   "execution_count": 1,
   "metadata": {},
   "outputs": [
    {
     "name": "stdout",
     "output_type": "stream",
     "text": [
      "ZIP file already exists.\n",
      "Dataset already extracted.\n"
     ]
    }
   ],
   "source": [
    "import os\n",
    "import zipfile\n",
    "\n",
    "zip_url = \"https://zenodo.org/records/11661820/files/T1.train_dev.zip?download=1\"\n",
    "zip_path = \"T1.train_dev.zip\"\n",
    "extracted_folder = \"T1.train_dev\"\n",
    "\n",
    "# Download with system wget (Jupyter syntax)\n",
    "if not os.path.exists(zip_path):\n",
    "    print(\"Downloading dataset...\")\n",
    "    !wget -O $zip_path \"$zip_url\"\n",
    "else:\n",
    "    print(\"ZIP file already exists.\")\n",
    "\n",
    "# Extract if not already extracted\n",
    "if not os.path.exists(extracted_folder):\n",
    "    print(\"Extracting dataset...\")\n",
    "    with zipfile.ZipFile(zip_path, \"r\") as zip_ref:\n",
    "        zip_ref.extractall(extracted_folder)\n",
    "    print(\"Extraction complete.\")\n",
    "else:\n",
    "    print(\"Dataset already extracted.\")"
   ]
  },
  {
   "cell_type": "markdown",
   "metadata": {},
   "source": [
    "### Parte 2: Instalación de las librerías necesarias"
   ]
  },
  {
   "cell_type": "code",
   "execution_count": 17,
   "metadata": {},
   "outputs": [
    {
     "name": "stdout",
     "output_type": "stream",
     "text": [
      "Requirement already satisfied: pandas in /home/pablo/Proyectos/quantificationlib_lab/.venv/lib/python3.13/site-packages (2.3.0)\n",
      "Requirement already satisfied: numpy>=1.26.0 in /home/pablo/Proyectos/quantificationlib_lab/.venv/lib/python3.13/site-packages (from pandas) (2.3.0)\n",
      "Requirement already satisfied: python-dateutil>=2.8.2 in /home/pablo/Proyectos/quantificationlib_lab/.venv/lib/python3.13/site-packages (from pandas) (2.9.0.post0)\n",
      "Requirement already satisfied: pytz>=2020.1 in /home/pablo/Proyectos/quantificationlib_lab/.venv/lib/python3.13/site-packages (from pandas) (2025.2)\n",
      "Requirement already satisfied: tzdata>=2022.7 in /home/pablo/Proyectos/quantificationlib_lab/.venv/lib/python3.13/site-packages (from pandas) (2025.2)\n",
      "Requirement already satisfied: six>=1.5 in /home/pablo/Proyectos/quantificationlib_lab/.venv/lib/python3.13/site-packages (from python-dateutil>=2.8.2->pandas) (1.17.0)\n",
      "\n",
      "\u001b[1m[\u001b[0m\u001b[34;49mnotice\u001b[0m\u001b[1;39;49m]\u001b[0m\u001b[39;49m A new release of pip is available: \u001b[0m\u001b[31;49m24.3.1\u001b[0m\u001b[39;49m -> \u001b[0m\u001b[32;49m25.1.1\u001b[0m\n",
      "\u001b[1m[\u001b[0m\u001b[34;49mnotice\u001b[0m\u001b[1;39;49m]\u001b[0m\u001b[39;49m To update, run: \u001b[0m\u001b[32;49mpip install --upgrade pip\u001b[0m\n",
      "Requirement already satisfied: matplotlib in /home/pablo/Proyectos/quantificationlib_lab/.venv/lib/python3.13/site-packages (3.10.3)\n",
      "Requirement already satisfied: contourpy>=1.0.1 in /home/pablo/Proyectos/quantificationlib_lab/.venv/lib/python3.13/site-packages (from matplotlib) (1.3.2)\n",
      "Requirement already satisfied: cycler>=0.10 in /home/pablo/Proyectos/quantificationlib_lab/.venv/lib/python3.13/site-packages (from matplotlib) (0.12.1)\n",
      "Requirement already satisfied: fonttools>=4.22.0 in /home/pablo/Proyectos/quantificationlib_lab/.venv/lib/python3.13/site-packages (from matplotlib) (4.58.4)\n",
      "Requirement already satisfied: kiwisolver>=1.3.1 in /home/pablo/Proyectos/quantificationlib_lab/.venv/lib/python3.13/site-packages (from matplotlib) (1.4.8)\n",
      "Requirement already satisfied: numpy>=1.23 in /home/pablo/Proyectos/quantificationlib_lab/.venv/lib/python3.13/site-packages (from matplotlib) (2.3.0)\n",
      "Requirement already satisfied: packaging>=20.0 in /home/pablo/Proyectos/quantificationlib_lab/.venv/lib/python3.13/site-packages (from matplotlib) (25.0)\n",
      "Requirement already satisfied: pillow>=8 in /home/pablo/Proyectos/quantificationlib_lab/.venv/lib/python3.13/site-packages (from matplotlib) (11.2.1)\n",
      "Requirement already satisfied: pyparsing>=2.3.1 in /home/pablo/Proyectos/quantificationlib_lab/.venv/lib/python3.13/site-packages (from matplotlib) (3.2.3)\n",
      "Requirement already satisfied: python-dateutil>=2.7 in /home/pablo/Proyectos/quantificationlib_lab/.venv/lib/python3.13/site-packages (from matplotlib) (2.9.0.post0)\n",
      "Requirement already satisfied: six>=1.5 in /home/pablo/Proyectos/quantificationlib_lab/.venv/lib/python3.13/site-packages (from python-dateutil>=2.7->matplotlib) (1.17.0)\n",
      "\n",
      "\u001b[1m[\u001b[0m\u001b[34;49mnotice\u001b[0m\u001b[1;39;49m]\u001b[0m\u001b[39;49m A new release of pip is available: \u001b[0m\u001b[31;49m24.3.1\u001b[0m\u001b[39;49m -> \u001b[0m\u001b[32;49m25.1.1\u001b[0m\n",
      "\u001b[1m[\u001b[0m\u001b[34;49mnotice\u001b[0m\u001b[1;39;49m]\u001b[0m\u001b[39;49m To update, run: \u001b[0m\u001b[32;49mpip install --upgrade pip\u001b[0m\n",
      "Requirement already satisfied: quantificationlib in /home/pablo/Proyectos/quantificationlib_lab/.venv/lib/python3.13/site-packages (0.1.2)\n",
      "Requirement already satisfied: scikit-learn in /home/pablo/Proyectos/quantificationlib_lab/.venv/lib/python3.13/site-packages (from quantificationlib) (1.7.0)\n",
      "Requirement already satisfied: cvxpy in /home/pablo/Proyectos/quantificationlib_lab/.venv/lib/python3.13/site-packages (from quantificationlib) (1.6.6)\n",
      "Requirement already satisfied: quadprog in /home/pablo/Proyectos/quantificationlib_lab/.venv/lib/python3.13/site-packages (from quantificationlib) (0.1.13)\n",
      "Requirement already satisfied: scipy in /home/pablo/Proyectos/quantificationlib_lab/.venv/lib/python3.13/site-packages (from quantificationlib) (1.15.3)\n",
      "Requirement already satisfied: numpy in /home/pablo/Proyectos/quantificationlib_lab/.venv/lib/python3.13/site-packages (from quantificationlib) (2.3.0)\n",
      "Requirement already satisfied: ecos in /home/pablo/Proyectos/quantificationlib_lab/.venv/lib/python3.13/site-packages (from quantificationlib) (2.0.14)\n",
      "Requirement already satisfied: statsmodels in /home/pablo/Proyectos/quantificationlib_lab/.venv/lib/python3.13/site-packages (from quantificationlib) (0.14.4)\n",
      "Requirement already satisfied: pandas in /home/pablo/Proyectos/quantificationlib_lab/.venv/lib/python3.13/site-packages (from quantificationlib) (2.3.0)\n",
      "Requirement already satisfied: matplotlib in /home/pablo/Proyectos/quantificationlib_lab/.venv/lib/python3.13/site-packages (from quantificationlib) (3.10.3)\n",
      "Requirement already satisfied: osqp>=0.6.2 in /home/pablo/Proyectos/quantificationlib_lab/.venv/lib/python3.13/site-packages (from cvxpy->quantificationlib) (1.0.4)\n",
      "Requirement already satisfied: clarabel>=0.5.0 in /home/pablo/Proyectos/quantificationlib_lab/.venv/lib/python3.13/site-packages (from cvxpy->quantificationlib) (0.11.1)\n",
      "Requirement already satisfied: scs>=3.2.4.post1 in /home/pablo/Proyectos/quantificationlib_lab/.venv/lib/python3.13/site-packages (from cvxpy->quantificationlib) (3.2.7.post2)\n",
      "Requirement already satisfied: contourpy>=1.0.1 in /home/pablo/Proyectos/quantificationlib_lab/.venv/lib/python3.13/site-packages (from matplotlib->quantificationlib) (1.3.2)\n",
      "Requirement already satisfied: cycler>=0.10 in /home/pablo/Proyectos/quantificationlib_lab/.venv/lib/python3.13/site-packages (from matplotlib->quantificationlib) (0.12.1)\n",
      "Requirement already satisfied: fonttools>=4.22.0 in /home/pablo/Proyectos/quantificationlib_lab/.venv/lib/python3.13/site-packages (from matplotlib->quantificationlib) (4.58.4)\n",
      "Requirement already satisfied: kiwisolver>=1.3.1 in /home/pablo/Proyectos/quantificationlib_lab/.venv/lib/python3.13/site-packages (from matplotlib->quantificationlib) (1.4.8)\n",
      "Requirement already satisfied: packaging>=20.0 in /home/pablo/Proyectos/quantificationlib_lab/.venv/lib/python3.13/site-packages (from matplotlib->quantificationlib) (25.0)\n",
      "Requirement already satisfied: pillow>=8 in /home/pablo/Proyectos/quantificationlib_lab/.venv/lib/python3.13/site-packages (from matplotlib->quantificationlib) (11.2.1)\n",
      "Requirement already satisfied: pyparsing>=2.3.1 in /home/pablo/Proyectos/quantificationlib_lab/.venv/lib/python3.13/site-packages (from matplotlib->quantificationlib) (3.2.3)\n",
      "Requirement already satisfied: python-dateutil>=2.7 in /home/pablo/Proyectos/quantificationlib_lab/.venv/lib/python3.13/site-packages (from matplotlib->quantificationlib) (2.9.0.post0)\n",
      "Requirement already satisfied: pytz>=2020.1 in /home/pablo/Proyectos/quantificationlib_lab/.venv/lib/python3.13/site-packages (from pandas->quantificationlib) (2025.2)\n",
      "Requirement already satisfied: tzdata>=2022.7 in /home/pablo/Proyectos/quantificationlib_lab/.venv/lib/python3.13/site-packages (from pandas->quantificationlib) (2025.2)\n",
      "Requirement already satisfied: joblib>=1.2.0 in /home/pablo/Proyectos/quantificationlib_lab/.venv/lib/python3.13/site-packages (from scikit-learn->quantificationlib) (1.5.1)\n",
      "Requirement already satisfied: threadpoolctl>=3.1.0 in /home/pablo/Proyectos/quantificationlib_lab/.venv/lib/python3.13/site-packages (from scikit-learn->quantificationlib) (3.6.0)\n",
      "Requirement already satisfied: patsy>=0.5.6 in /home/pablo/Proyectos/quantificationlib_lab/.venv/lib/python3.13/site-packages (from statsmodels->quantificationlib) (1.0.1)\n",
      "Requirement already satisfied: cffi in /home/pablo/Proyectos/quantificationlib_lab/.venv/lib/python3.13/site-packages (from clarabel>=0.5.0->cvxpy->quantificationlib) (1.17.1)\n",
      "Requirement already satisfied: jinja2 in /home/pablo/Proyectos/quantificationlib_lab/.venv/lib/python3.13/site-packages (from osqp>=0.6.2->cvxpy->quantificationlib) (3.1.6)\n",
      "Requirement already satisfied: setuptools in /home/pablo/Proyectos/quantificationlib_lab/.venv/lib/python3.13/site-packages (from osqp>=0.6.2->cvxpy->quantificationlib) (80.9.0)\n",
      "Requirement already satisfied: six>=1.5 in /home/pablo/Proyectos/quantificationlib_lab/.venv/lib/python3.13/site-packages (from python-dateutil>=2.7->matplotlib->quantificationlib) (1.17.0)\n",
      "Requirement already satisfied: pycparser in /home/pablo/Proyectos/quantificationlib_lab/.venv/lib/python3.13/site-packages (from cffi->clarabel>=0.5.0->cvxpy->quantificationlib) (2.22)\n",
      "Requirement already satisfied: MarkupSafe>=2.0 in /home/pablo/Proyectos/quantificationlib_lab/.venv/lib/python3.13/site-packages (from jinja2->osqp>=0.6.2->cvxpy->quantificationlib) (3.0.2)\n",
      "\n",
      "\u001b[1m[\u001b[0m\u001b[34;49mnotice\u001b[0m\u001b[1;39;49m]\u001b[0m\u001b[39;49m A new release of pip is available: \u001b[0m\u001b[31;49m24.3.1\u001b[0m\u001b[39;49m -> \u001b[0m\u001b[32;49m25.1.1\u001b[0m\n",
      "\u001b[1m[\u001b[0m\u001b[34;49mnotice\u001b[0m\u001b[1;39;49m]\u001b[0m\u001b[39;49m To update, run: \u001b[0m\u001b[32;49mpip install --upgrade pip\u001b[0m\n",
      "Requirement already satisfied: scikit-learn in /home/pablo/Proyectos/quantificationlib_lab/.venv/lib/python3.13/site-packages (1.7.0)\n",
      "Requirement already satisfied: numpy>=1.22.0 in /home/pablo/Proyectos/quantificationlib_lab/.venv/lib/python3.13/site-packages (from scikit-learn) (2.3.0)\n",
      "Requirement already satisfied: scipy>=1.8.0 in /home/pablo/Proyectos/quantificationlib_lab/.venv/lib/python3.13/site-packages (from scikit-learn) (1.15.3)\n",
      "Requirement already satisfied: joblib>=1.2.0 in /home/pablo/Proyectos/quantificationlib_lab/.venv/lib/python3.13/site-packages (from scikit-learn) (1.5.1)\n",
      "Requirement already satisfied: threadpoolctl>=3.1.0 in /home/pablo/Proyectos/quantificationlib_lab/.venv/lib/python3.13/site-packages (from scikit-learn) (3.6.0)\n",
      "\n",
      "\u001b[1m[\u001b[0m\u001b[34;49mnotice\u001b[0m\u001b[1;39;49m]\u001b[0m\u001b[39;49m A new release of pip is available: \u001b[0m\u001b[31;49m24.3.1\u001b[0m\u001b[39;49m -> \u001b[0m\u001b[32;49m25.1.1\u001b[0m\n",
      "\u001b[1m[\u001b[0m\u001b[34;49mnotice\u001b[0m\u001b[1;39;49m]\u001b[0m\u001b[39;49m To update, run: \u001b[0m\u001b[32;49mpip install --upgrade pip\u001b[0m\n"
     ]
    }
   ],
   "source": [
    "!pip install pandas\n",
    "!pip install matplotlib\n",
    "!pip install quantificationlib\n",
    "!pip install scikit-learn"
   ]
  },
  {
   "cell_type": "markdown",
   "metadata": {},
   "source": [
    "### Parte 3. Leyendo el dataset.\n",
    "Este dataset contiene reviews de productos de amazon. Cada review puede ser positiva o negativa (campo `label`). El texto de cada review ha sido convertido a una representación numérica para su facilidad de uso. Diponemos de 5000 ejemplos de entrenamiento (5000 opiniones)."
   ]
  },
  {
   "cell_type": "code",
   "execution_count": 3,
   "metadata": {},
   "outputs": [
    {
     "name": "stdout",
     "output_type": "stream",
     "text": [
      "      label        0       1        2        3         4        5        6  \\\n",
      "0         1  1.10940 -1.5099  0.26001 -0.62786 -0.356860  0.32722 -1.00670   \n",
      "1         1  0.94284 -1.3486  0.35036 -0.68159 -0.046541  0.45244 -1.25130   \n",
      "2         1  0.94738 -1.4309  0.22982 -0.84249 -0.414650  0.56810 -1.38980   \n",
      "3         1  1.02150 -1.4751  0.29282 -0.66289 -0.003578  0.37674 -1.20800   \n",
      "4         1  1.07030 -1.1924  0.23481 -0.54509 -0.228920  0.27440 -1.00250   \n",
      "...     ...      ...     ...      ...      ...       ...      ...      ...   \n",
      "4995      1  0.90753 -1.5766  0.13906 -1.00270 -0.210630  0.51940 -1.02110   \n",
      "4996      1  1.01900 -1.4851  0.43065 -0.75151 -0.089563  0.43897 -1.10860   \n",
      "4997      0  1.00370 -1.0824  0.27074 -0.88833 -0.337040  0.63238 -1.10940   \n",
      "4998      1  0.99343 -1.4536  0.36971 -1.16970  0.099819  0.40902 -0.84970   \n",
      "4999      1  0.88026 -1.3862  0.42127 -0.87045 -0.328340  0.55201 -0.46403   \n",
      "\n",
      "           7         8  ...      246       247       248      249      250  \\\n",
      "0    -3.1868  0.098463  ...  0.43257 -0.208780 -0.353410  0.42306  1.11050   \n",
      "1    -2.7175  0.624870  ...  0.32586 -0.235010 -0.516580  0.43411  1.07910   \n",
      "2    -2.9166  0.255890  ...  0.31838 -0.328290 -0.432010  0.40221  0.96426   \n",
      "3    -2.7195  0.224660  ...  0.26452 -0.242380 -0.237580  0.48277  1.05680   \n",
      "4    -2.6694  0.283670  ...  0.49948 -0.256270 -0.589230  0.35103  1.01220   \n",
      "...      ...       ...  ...      ...       ...       ...      ...      ...   \n",
      "4995 -2.8352  0.262200  ...  0.40394 -0.353860 -0.137760  0.51917  1.03590   \n",
      "4996 -2.8000  0.491110  ...  0.63780 -0.435980 -0.161310  0.39187  0.97571   \n",
      "4997 -3.0696  0.222940  ...  0.39121 -0.378240 -0.333670  0.51027  0.91681   \n",
      "4998 -2.8597  0.281880  ...  0.20516  0.024185 -0.331830  0.46262  1.27030   \n",
      "4999 -2.9803  0.457020  ...  0.21056 -0.586010  0.023459  0.67342  0.78369   \n",
      "\n",
      "           251      252      253       254       255  \n",
      "0    -0.278670 -0.45951 -0.32426  0.078102 -0.281600  \n",
      "1    -0.190690 -0.32543 -0.45266  0.162920 -0.148660  \n",
      "2    -0.213790 -0.43253 -0.28275  0.153470  0.118280  \n",
      "3     0.227900 -0.40648 -0.41733  0.112230  0.058878  \n",
      "4     0.255270 -0.30624 -0.61785 -0.133670 -0.018455  \n",
      "...        ...      ...      ...       ...       ...  \n",
      "4995 -0.009425 -0.33584 -0.56024  0.055038  0.163920  \n",
      "4996 -0.170630 -0.45005 -0.50356  0.158750 -0.124010  \n",
      "4997 -0.219180 -0.44119 -0.45942  0.084884 -0.112480  \n",
      "4998  0.098233 -0.38055 -0.17979  0.171920  0.059547  \n",
      "4999 -0.342750 -0.24281 -0.10320 -0.078201 -0.296630  \n",
      "\n",
      "[5000 rows x 257 columns]\n"
     ]
    }
   ],
   "source": [
    "import pandas as pd\n",
    "\n",
    "dataset = pd.read_csv('T1.train_dev/T1/public/training_data.txt')\n",
    "\n",
    "print(dataset)"
   ]
  },
  {
   "cell_type": "markdown",
   "metadata": {},
   "source": [
    "### Analizando la prevalencia de las clases original en el dataset de etrenamiento.\n",
    "Como podemos ver, un alto porcentaje de las opiniones son positivas."
   ]
  },
  {
   "cell_type": "code",
   "execution_count": 5,
   "metadata": {},
   "outputs": [
    {
     "data": {
      "image/png": "[encoded data removed]",
      "text/plain": [
       "<Figure size 500x400 with 1 Axes>"
      ]
     },
     "metadata": {},
     "output_type": "display_data"
    }
   ],
   "source": [
    "import matplotlib.pyplot as plt\n",
    "\n",
    "# Count examples per label\n",
    "label_counts = dataset['label'].value_counts()\n",
    "\n",
    "# Plot\n",
    "plt.figure(figsize=(5, 4))\n",
    "plt.bar(label_counts.index.astype(str), label_counts.values)\n",
    "plt.xlabel('Etiqueta (0 negativa, 1 positiva)')\n",
    "plt.ylabel('Número de ejemplos')\n",
    "plt.title('Distribución')\n",
    "\n",
    "plt.grid(axis='y')\n",
    "plt.show()\n"
   ]
  },
  {
   "cell_type": "markdown",
   "metadata": {},
   "source": [
    "### Aprendiendo a cuantificar. El método Clasificar y Contar\n",
    "Vamos a empezar con la solución trivial del problema de la cuantificación: entrenar un clasificador y contar las predicciones de cada ejemplo de la bag de test que queremos cuantificar."
   ]
  },
  {
   "cell_type": "code",
   "execution_count": 7,
   "metadata": {},
   "outputs": [
    {
     "name": "stdout",
     "output_type": "stream",
     "text": [
      "Train: 3500 ejemplos (Proporción positivos: 0.78) | Test: 1500 ejemplos (Proporción positivos: 0.78)\n"
     ]
    }
   ],
   "source": [
    "from sklearn.model_selection import train_test_split\n",
    "from sklearn.linear_model import LogisticRegression\n",
    "import numpy as np\n",
    "\n",
    "X = dataset.drop(columns=[\"label\"]).values\n",
    "y = dataset[\"label\"].values\n",
    "\n",
    "#Dividimos nuestro dataset en train y test, separando el 30% de los ejemplos para test y asegurando que la proporción original de etiquetas se mantiene en ambos conjuntos.\n",
    "X_train, X_test, y_train, y_test = train_test_split(\n",
    "    X, y, test_size=0.3, random_state=42, stratify=y\n",
    ")\n",
    "\n",
    "print(f\"Train: {len(y_train)} ejemplos (Proporción positivos: {np.mean(y_train):.2f}) | Test: {len(y_test)} ejemplos (Proporción positivos: {np.mean(y_test):.2f})\")"
   ]
  },
  {
   "cell_type": "markdown",
   "metadata": {},
   "source": [
    "Entrenamos un clasificador y clasificamos lo ejemplos de test. Como podemos ver, el error absoluto de este cuantificador (AE) es bajo, predice bastante bien la prevalencia de la clse positiva en la bag de test. Este problema es en realidad trivial ya que en nuestro setup la prevalencia de las clases **no ha cambiado** entre train y test: $P_{train}(y)=P_{test}(y)$"
   ]
  },
  {
   "cell_type": "code",
   "execution_count": null,
   "metadata": {},
   "outputs": [
    {
     "name": "stdout",
     "output_type": "stream",
     "text": [
      "Clasificar y contar (porcentaje postivos): 0.8127\n",
      "Porcentaje positivos real: 0.7800\n",
      "Error absoluto cuantificador: 0.0327\n"
     ]
    }
   ],
   "source": [
    "clf = LogisticRegression(max_iter=1000)\n",
    "clf.fit(X_train, y_train)\n",
    "\n",
    "y_pred = clf.predict(X_test)\n",
    "# Predeccimos los ejemplos de test y contamos la proporción de positivos en las predicciones.\n",
    "cc_prevalence = np.mean(y_pred)\n",
    "true_prevalence = np.mean(y_test)\n",
    "\n",
    "print(f\"Clasificar y contar (porcentaje postivos): {cc_prevalence:.4f}\")\n",
    "print(f\"Porcentaje positivos real: {true_prevalence:.4f}\")\n",
    "print(f\"Error absoluto cuantificador: {np.abs(cc_prevalence-true_prevalence):.4f}\")"
   ]
  },
  {
   "cell_type": "markdown",
   "metadata": {},
   "source": [
    "### ¿Qué sucede si la distribución $P(y)$ cambia entre train y test $P_{train}(y) \\neq P_{test}(y)$?\n",
    "Para probarlo, generamos una nueva bolsa de test con 500 ejemplos, pero en este caso, la mayoría van a ser negativos (400 de 500).\n",
    "Como podemos comprobar ahora, si repetimos el procedimiento de antes y utilizamos CC para cuantificar, el error absoluto entre la predicción del cuantificador y la prevalencia real es mucho mayor."
   ]
  },
  {
   "cell_type": "code",
   "execution_count": null,
   "metadata": {},
   "outputs": [
    {
     "name": "stdout",
     "output_type": "stream",
     "text": [
      "Número de ejemplos en test: 500 | Proporción positivos: 0.2\n",
      "Clasificar y contar (porcentaje postivos): 0.4620\n",
      "Porcentaje positivos real: 0.20\n",
      "Error absoluto cuantificador: 0.2620\n"
     ]
    }
   ],
   "source": [
    "# Calculamos los índices de los ejemplos negativos y positivos en el conjunto de test\n",
    "neg_indices = np.where(y_test == 0)[0]\n",
    "pos_indices = np.where(y_test == 1)[0]\n",
    "\n",
    "# Elegimos el número de ejemplos negativos y positivos que queremos en nuestra bag\n",
    "n_neg, n_pos = 400, 100\n",
    "\n",
    "# Muestreamos aleatoriamente con reemplazmiento los índices de los ejemplos negativos y positivos\n",
    "sampled_neg = np.random.choice(neg_indices, size=n_neg, replace=True)\n",
    "sampled_pos = np.random.choice(pos_indices, size=n_pos, replace=True)\n",
    "\n",
    "# Combinamos y barajamos los índices de la bag\n",
    "bag_indices = np.concatenate([sampled_neg, sampled_pos])\n",
    "np.random.shuffle(bag_indices)\n",
    "\n",
    "# Creamos la bag con los ejemplos seleccionados\n",
    "X_bag = X_test[bag_indices]\n",
    "y_bag = y_test[bag_indices]\n",
    "\n",
    "# Imprimir información sobre la bag\n",
    "print(f\"Número de ejemplos en test: {len(y_bag)} | Proporción positivos: {np.mean(y_bag):.1f}\")\n",
    "\n",
    "# Aplicamos el método clasificar y contar (CC) a la bag\n",
    "y_pred = clf.predict(X_bag)\n",
    "cc_prevalence = np.mean(y_pred)\n",
    "true_prevalence = np.mean(y_bag)\n",
    "\n",
    "print(f\"Clasificar y contar (porcentaje positivos): {cc_prevalence:.4f}\")\n",
    "print(f\"Porcentaje positivos real: {true_prevalence:.2f}\")\n",
    "print(f\"Error absoluto cuantificador: {np.abs(cc_prevalence-true_prevalence):.4f}\")\n"
   ]
  },
  {
   "cell_type": "markdown",
   "metadata": {},
   "source": [
    "### Automatizando la cuantificación (quantificationlib)\n",
    "\n",
    "Hasta ahora hemos cuantificado, con un cuantificador trivial (CC) a mano. Para cuantificar disponemos de software específico, como por ejemplo la librería de cuantificación **quantificationlib** (https://aicgijon.github.io/quantificationlib/).\n",
    "\n",
    "Veamos como utilizar CC usando quantificationlib."
   ]
  },
  {
   "cell_type": "code",
   "execution_count": 11,
   "metadata": {},
   "outputs": [
    {
     "name": "stdout",
     "output_type": "stream",
     "text": [
      "Clasificar y contar (porcentaje postivos): 0.462\n",
      "Prevalencia real: 0.2\n",
      "Error absoluto cuantificador: 0.262\n"
     ]
    }
   ],
   "source": [
    "from quantificationlib.baselines.cc import CC\n",
    "from quantificationlib.metrics.multiclass import mean_absolute_error\n",
    "\n",
    "# Creamos un objeto CC que corresponde al método clasificar y contar (CC) e indicamos que queremos el mismo clasificador que hemos utilizado antes (clf).\n",
    "quantifier_cc = CC(estimator_test=clf)\n",
    "quantifier_cc.fit(X_train,y_train)\n",
    "# Predeccimos la misma bag con el cuantificador CC (deberíamos de obtener los mismos resultados que antes)\n",
    "p_pred=quantifier_cc.predict(X_bag)\n",
    "\n",
    "true_prevalence = np.array([0.8,0.2])\n",
    "\n",
    "print(f\"Clasificar y contar (porcentaje postivos): {p_pred[1]}\")\n",
    "print(f\"Prevalencia real: {true_prevalence[1]}\")\n",
    "# También disponemos de funciones para calcular errores de cuantificación como el error absoluto\n",
    "print(f\"Error absoluto cuantificador: {mean_absolute_error(p_pred,true_prevalence)}\")"
   ]
  },
  {
   "cell_type": "markdown",
   "metadata": {},
   "source": [
    "### Utilizando cuantificadores más avanzados\n",
    "En este caso vamos a utilizar un cuantificador especialmente diseñador para lidiar con situaciones de prior probability shift. Este método es un cuantificador básico conocido como Adjusted Count (AC).\n",
    "\n",
    "Como podemos ver este cuantificador mejora muchísimo el resultado de CC."
   ]
  },
  {
   "cell_type": "code",
   "execution_count": 12,
   "metadata": {},
   "outputs": [
    {
     "name": "stdout",
     "output_type": "stream",
     "text": [
      "Adjusted count (porcentaje postivos): 0.22861020121665887\n",
      "Prevalencia real: 0.2\n",
      "Error absoluto cuantificador: 0.028610201216658887\n"
     ]
    }
   ],
   "source": [
    "from quantificationlib.baselines.ac import AC\n",
    "\n",
    "quantifier_ac = AC(estimator_train=clf, estimator_test=clf)\n",
    "quantifier_ac.fit(X_train,y_train)\n",
    "p_pred=quantifier_ac.predict(X_bag)\n",
    "\n",
    "print(f\"Adjusted count (porcentaje postivos): {p_pred[1]}\")\n",
    "print(f\"Prevalencia real: {true_prevalence[1]}\")\n",
    "print(f\"Error absoluto cuantificador: {mean_absolute_error(p_pred,true_prevalence)}\")"
   ]
  },
  {
   "cell_type": "markdown",
   "metadata": {},
   "source": [
    "### Evaluando correctamente un cuantificador\n",
    "\n",
    "Hasta ahora hemos hecho nuestras pruebas sobre una sola bag, con una prevalencia fija. Pero, no sería más adecuado crear varias bags con prior probability shift y calcular el error que cometemos? Esto se puede realizar fácilmente con un generador de bags incluido en **quantificationlib**. Veamos como se usa."
   ]
  },
  {
   "cell_type": "code",
   "execution_count": 13,
   "metadata": {},
   "outputs": [
    {
     "name": "stdout",
     "output_type": "stream",
     "text": [
      "Prevalencia real=0.460000, CC=0.664000 (AE=0.204000), AC=0.544009 (AE=0.084009)\n",
      "Prevalencia real=0.582000, CC=0.714000 (AE=0.132000), AC=0.622078 (AE=0.040078)\n",
      "Prevalencia real=0.632000, CC=0.728000 (AE=0.096000), AC=0.643937 (AE=0.011937)\n",
      "Prevalencia real=0.278000, CC=0.526000 (AE=0.248000), AC=0.328538 (AE=0.050538)\n",
      "Prevalencia real=0.310000, CC=0.534000 (AE=0.224000), AC=0.341029 (AE=0.031029)\n",
      "Prevalencia real=0.274000, CC=0.528000 (AE=0.254000), AC=0.331661 (AE=0.057661)\n",
      "Prevalencia real=0.654000, CC=0.732000 (AE=0.078000), AC=0.650182 (AE=0.003818)\n",
      "Prevalencia real=0.584000, CC=0.714000 (AE=0.130000), AC=0.622078 (AE=0.038078)\n",
      "Prevalencia real=0.764000, CC=0.798000 (AE=0.034000), AC=0.753234 (AE=0.010766)\n",
      "Prevalencia real=0.452000, CC=0.634000 (AE=0.182000), AC=0.497167 (AE=0.045167)\n",
      "Error medio CC 0.1582\n",
      "Error medio AC 0.0373\n"
     ]
    }
   ],
   "source": [
    "from quantificationlib.bag_generator import PriorShift_BagGenerator\n",
    "\n",
    "n_bags = 10\n",
    "bag_size = 500\n",
    "\n",
    "bag_generator = PriorShift_BagGenerator(n_bags=n_bags, bag_size=bag_size, min_prevalence=None)\n",
    "prev_true, indexes = bag_generator.generate_bags(X_test, y_test)\n",
    "errores_cc = np.zeros((n_bags))\n",
    "errores_ac = np.zeros((n_bags))\n",
    "\n",
    "for n_bag in range(10):\n",
    "   prev_pred_cc = quantifier_cc.predict(X_test[indexes[:, n_bag], :])\n",
    "   prev_pred_ac = quantifier_ac.predict(X_test[indexes[:, n_bag], :])\n",
    "   errores_cc[n_bag] = mean_absolute_error(prev_true[:,n_bag],prev_pred_cc)\n",
    "   errores_ac[n_bag] = mean_absolute_error(prev_true[:,n_bag],prev_pred_ac)\n",
    "   print('Prevalencia real=%f, CC=%f (AE=%f), AC=%f (AE=%f)' % (prev_true[1,n_bag],prev_pred_cc[1], errores_cc[n_bag] ,prev_pred_ac[1], errores_ac[n_bag]))\n",
    "\n",
    "print(f\"Error medio CC {np.mean(errores_cc):.4f}\")\n",
    "print(f\"Error medio AC {np.mean(errores_ac):.4f}\")\n"
   ]
  },
  {
   "cell_type": "markdown",
   "metadata": {},
   "source": [
    "### Ejercicio 1: Entrena dos cuantificadores más. El primero basado en distribution matching (DFy) y el segundo basado en el agoritmo EM (EM), compara los resultados con AC y CC."
   ]
  },
  {
   "cell_type": "code",
   "execution_count": 15,
   "metadata": {},
   "outputs": [
    {
     "name": "stdout",
     "output_type": "stream",
     "text": [
      "Prevalencia real=0.460000, CC=0.664000 (AE=0.204000), AC=0.544009 (AE=0.084009), DFy=0.498430 (AE=0.038430), EM=0.469108 (AE=0.009108)\n",
      "Prevalencia real=0.582000, CC=0.714000 (AE=0.132000), AC=0.622078 (AE=0.040078), DFy=0.601317 (AE=0.019317), EM=0.580705 (AE=0.001295)\n",
      "Prevalencia real=0.632000, CC=0.728000 (AE=0.096000), AC=0.643937 (AE=0.011937), DFy=0.632769 (AE=0.000769), EM=0.621426 (AE=0.010574)\n",
      "Prevalencia real=0.278000, CC=0.526000 (AE=0.248000), AC=0.328538 (AE=0.050538), DFy=0.290374 (AE=0.012374), EM=0.265043 (AE=0.012957)\n",
      "Prevalencia real=0.310000, CC=0.534000 (AE=0.224000), AC=0.341029 (AE=0.031029), DFy=0.333473 (AE=0.023473), EM=0.309603 (AE=0.000397)\n",
      "Prevalencia real=0.274000, CC=0.528000 (AE=0.254000), AC=0.331661 (AE=0.057661), DFy=0.324516 (AE=0.050516), EM=0.282478 (AE=0.008478)\n",
      "Prevalencia real=0.654000, CC=0.732000 (AE=0.078000), AC=0.650182 (AE=0.003818), DFy=0.646037 (AE=0.007963), EM=0.637805 (AE=0.016195)\n",
      "Prevalencia real=0.584000, CC=0.714000 (AE=0.130000), AC=0.622078 (AE=0.038078), DFy=0.607036 (AE=0.023036), EM=0.598667 (AE=0.014667)\n",
      "Prevalencia real=0.764000, CC=0.798000 (AE=0.034000), AC=0.753234 (AE=0.010766), DFy=0.753093 (AE=0.010907), EM=0.751519 (AE=0.012481)\n",
      "Prevalencia real=0.452000, CC=0.634000 (AE=0.182000), AC=0.497167 (AE=0.045167), DFy=0.491452 (AE=0.039452), EM=0.473946 (AE=0.021946)\n",
      "Error medio CC 0.1582\n",
      "Error medio AC 0.0373\n",
      "Error medio DFy 0.0226\n",
      "Error medio EM 0.0108\n"
     ]
    }
   ],
   "source": [
    "from quantificationlib.bag_generator import PriorShift_BagGenerator\n",
    "from quantificationlib.multiclass.em import EM\n",
    "from quantificationlib.multiclass.df import DFy\n",
    "\n",
    "n_bags = 10\n",
    "bag_size = 500\n",
    "\n",
    "quantifier_dfy = DFy(estimator_train=clf, estimator_test=clf)\n",
    "quantifier_em = EM(estimator_train=clf, estimator_test=clf)\n",
    "quantifier_dfy.fit(X_train,y_train)\n",
    "quantifier_em.fit(X_train,y_train)\n",
    "\n",
    "bag_generator = PriorShift_BagGenerator(n_bags=n_bags, bag_size=bag_size, min_prevalence=None)\n",
    "prev_true, indexes = bag_generator.generate_bags(X_test, y_test)\n",
    "errores_cc = np.zeros((n_bags))\n",
    "errores_ac = np.zeros((n_bags))\n",
    "errores_dfy = np.zeros((n_bags))\n",
    "errores_em = np.zeros((n_bags))\n",
    "\n",
    "for n_bag in range(10):\n",
    "   prev_pred_cc = quantifier_cc.predict(X_test[indexes[:, n_bag], :])\n",
    "   prev_pred_ac = quantifier_ac.predict(X_test[indexes[:, n_bag], :])\n",
    "   prev_pred_dfy = quantifier_dfy.predict(X_test[indexes[:, n_bag], :])\n",
    "   prev_pred_em = quantifier_em.predict(X_test[indexes[:, n_bag], :])\n",
    "   errores_cc[n_bag] = mean_absolute_error(prev_true[:,n_bag],prev_pred_cc)\n",
    "   errores_ac[n_bag] = mean_absolute_error(prev_true[:,n_bag],prev_pred_ac)\n",
    "   errores_dfy[n_bag] = mean_absolute_error(prev_true[:,n_bag],prev_pred_dfy)\n",
    "   errores_em[n_bag] = mean_absolute_error(prev_true[:,n_bag],prev_pred_em)\n",
    "   print('Prevalencia real=%f, CC=%f (AE=%f), AC=%f (AE=%f), DFy=%f (AE=%f), EM=%f (AE=%f)' % (prev_true[1,n_bag],prev_pred_cc[1], errores_cc[n_bag] ,prev_pred_ac[1], errores_ac[n_bag], prev_pred_dfy[1], errores_dfy[n_bag], prev_pred_em[1], errores_em[n_bag]))\n",
    "\n",
    "print(f\"Error medio CC {np.mean(errores_cc):.4f}\")\n",
    "print(f\"Error medio AC {np.mean(errores_ac):.4f}\")\n",
    "print(f\"Error medio DFy {np.mean(errores_dfy):.4f}\")\n",
    "print(f\"Error medio EM {np.mean(errores_em):.4f}\")"
   ]
  },
  {
   "cell_type": "markdown",
   "metadata": {},
   "source": [
    "### Ejercicio 2: Utiliza los 5000 ejemplos de entrenamiento para reentrenar tus cuatro cuantificadores. Usa estos cuantificadores para cuantificar las 1000 muestras presentes en el directorio T1.train_dev/T1/public/dev_samples.\n",
    "La prevalencia real de cada bag está en el archivo dev_prevalences.txt"
   ]
  },
  {
   "cell_type": "code",
   "execution_count": 43,
   "metadata": {},
   "outputs": [
    {
     "name": "stdout",
     "output_type": "stream",
     "text": [
      "Error medio CC 0.1591\n",
      "Error medio AC 0.0330\n",
      "Error medio DFy 0.0232\n",
      "Error medio EM 0.0218\n"
     ]
    }
   ],
   "source": [
    "# leer las muestras del directorio T1.train_dev/T1/public/dev_samples\n",
    "import os\n",
    "import pandas as pd\n",
    "dev_samples_path = 'T1.train_dev/T1/public/dev_samples'\n",
    "# Leer la prevalencia real de cada bag desde el archivo dev_prevalences.txt\n",
    "prev_true = pd.read_csv('T1.train_dev/T1/public/dev_prevalences.txt',index_col=0)\n",
    "bag_files = prev_true.index\n",
    "prev_true = prev_true.to_numpy()\n",
    "\n",
    "clf = LogisticRegression(max_iter=1000)\n",
    "clf.fit(X, y)\n",
    "quantifier_cc.fit(X,y)\n",
    "quantifier_ac.fit(X,y)\n",
    "quantifier_dfy.fit(X,y)\n",
    "quantifier_em.fit(X,y)\n",
    "errores_cc = np.zeros((1000))\n",
    "errores_ac = np.zeros((1000))\n",
    "errores_dfy = np.zeros((1000))\n",
    "errores_em = np.zeros((1000))\n",
    "for n_bag in bag_files:\n",
    "    file_path = os.path.join(dev_samples_path, str(n_bag) + '.txt')\n",
    "    df = pd.read_csv(file_path)\n",
    "    prev_pred_cc = quantifier_cc.predict(df.to_numpy())\n",
    "    prev_pred_ac = quantifier_ac.predict(df.to_numpy())\n",
    "    prev_pred_dfy = quantifier_dfy.predict(df.to_numpy())\n",
    "    prev_pred_em = quantifier_em.predict(df.to_numpy())\n",
    "    errores_cc[n_bag] = mean_absolute_error(prev_true[n_bag,:],prev_pred_cc)\n",
    "    errores_ac[n_bag] = mean_absolute_error(prev_true[n_bag,:],prev_pred_ac)\n",
    "    errores_dfy[n_bag] = mean_absolute_error(prev_true[n_bag,:],prev_pred_dfy)\n",
    "    errores_em[n_bag] = mean_absolute_error(prev_true[n_bag,:],prev_pred_em)\n",
    "\n",
    "print(f\"Error medio CC {np.mean(errores_cc):.4f}\")\n",
    "print(f\"Error medio AC {np.mean(errores_ac):.4f}\")\n",
    "print(f\"Error medio DFy {np.mean(errores_dfy):.4f}\")\n",
    "print(f\"Error medio EM {np.mean(errores_em):.4f}\")"
   ]
  }
 ],
 "metadata": {
  "kernelspec": {
   "display_name": ".venv",
   "language": "python",
   "name": "python3"
  },
  "language_info": {
   "codemirror_mode": {
    "name": "ipython",
    "version": 3
   },
   "file_extension": ".py",
   "mimetype": "text/x-python",
   "name": "python",
   "nbconvert_exporter": "python",
   "pygments_lexer": "ipython3",
   "version": "3.13.2"
  }
 },
 "nbformat": 4,
 "nbformat_minor": 2
}
